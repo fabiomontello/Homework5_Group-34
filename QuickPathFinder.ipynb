{
 "cells": [
  {
   "cell_type": "code",
   "execution_count": 56,
   "metadata": {},
   "outputs": [],
   "source": [
    "import networkx as nx\n",
    "import matplotlib.pyplot as plt\n",
    "import pandas as pd\n",
    "import math\n",
    "from queue import Queue\n",
    "import time"
   ]
  },
  {
   "cell_type": "code",
   "execution_count": 3,
   "metadata": {},
   "outputs": [],
   "source": [
    "G = nx.DiGraph()\n",
    "for count, line in enumerate(open(\"data/wiki-topcats-reduced.txt\")):\n",
    "            grlst=line.replace(\"\\n\", \"\").split(sep=\"\\t\")\n",
    "            G.add_edge(int(grlst[0]),int(grlst[1]))"
   ]
  },
  {
   "cell_type": "code",
   "execution_count": 16,
   "metadata": {},
   "outputs": [],
   "source": [
    "def addDistances(graph, srcnode):\n",
    "    q = Queue() \n",
    "    visited= set()\n",
    "    distance = {}\n",
    "    \n",
    "    visited.add(srcnode); \n",
    "    q.put(srcnode); \n",
    "    distance[srcnode] = 0; \n",
    "    G.node[srcnode]['distance'] = 0\n",
    "    \n",
    "    while (q.empty() == False):\n",
    "        node = q.get()\n",
    "        for neinode in G.neighbors(node):\n",
    "            if neinode not in visited :\n",
    "                visited.add(neinode)\n",
    "                distance[neinode]=distance[node]+1\n",
    "                if('distance' not in G.node[neinode]):\n",
    "                    G.node[neinode]['distance'] = distance[node]+1\n",
    "                q.put(neinode)\n",
    "\n",
    "    return 'done'"
   ]
  },
  {
   "cell_type": "code",
   "execution_count": 17,
   "metadata": {},
   "outputs": [
    {
     "data": {
      "text/plain": [
       "'done'"
      ]
     },
     "execution_count": 17,
     "metadata": {},
     "output_type": "execute_result"
    }
   ],
   "source": [
    "addDistances(G, 52)"
   ]
  },
  {
   "cell_type": "code",
   "execution_count": 49,
   "metadata": {},
   "outputs": [],
   "source": [
    "def computeDist(graph, src, dest):\n",
    "    return (int(G.node[dest]['distance']) - int(G.node[src]['distance']))"
   ]
  },
  {
   "cell_type": "code",
   "execution_count": null,
   "metadata": {},
   "outputs": [],
   "source": []
  },
  {
   "cell_type": "code",
   "execution_count": 50,
   "metadata": {},
   "outputs": [
    {
     "data": {
      "text/plain": [
       "[598215, 1288150]"
      ]
     },
     "execution_count": 50,
     "metadata": {},
     "output_type": "execute_result"
    }
   ],
   "source": [
    "list(G.neighbors(1287950))"
   ]
  },
  {
   "cell_type": "code",
   "execution_count": 57,
   "metadata": {},
   "outputs": [
    {
     "name": "stdout",
     "output_type": "stream",
     "text": [
      "5.984306335449219e-05\n"
     ]
    }
   ],
   "source": [
    "start = time.time()\n",
    "computeDist(G, 52, 1287950)\n",
    "print(time.time() - start)"
   ]
  },
  {
   "cell_type": "code",
   "execution_count": 58,
   "metadata": {},
   "outputs": [
    {
     "name": "stdout",
     "output_type": "stream",
     "text": [
      "0.0005869865417480469\n"
     ]
    }
   ],
   "source": [
    "start = time.time()\n",
    "len(nx.shortest_path(G, source=52, target=1287950))-1\n",
    "print(time.time() - start)"
   ]
  },
  {
   "cell_type": "code",
   "execution_count": null,
   "metadata": {},
   "outputs": [],
   "source": []
  }
 ],
 "metadata": {
  "kernelspec": {
   "display_name": "Python 3",
   "language": "python",
   "name": "python3"
  },
  "language_info": {
   "codemirror_mode": {
    "name": "ipython",
    "version": 3
   },
   "file_extension": ".py",
   "mimetype": "text/x-python",
   "name": "python",
   "nbconvert_exporter": "python",
   "pygments_lexer": "ipython3",
   "version": "3.7.0"
  }
 },
 "nbformat": 4,
 "nbformat_minor": 2
}
