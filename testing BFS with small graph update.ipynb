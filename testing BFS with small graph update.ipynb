{
 "cells": [
  {
   "cell_type": "code",
   "execution_count": 22,
   "metadata": {},
   "outputs": [],
   "source": [
    "import numpy as np\n",
    "from collections import defaultdict\n",
    "import networkx as nx\n",
    "import time as my_time\n",
    "import collections "
   ]
  },
  {
   "cell_type": "code",
   "execution_count": 23,
   "metadata": {},
   "outputs": [],
   "source": [
    "# Initialize fake data\n",
    "# My_BFS\n",
    "articles = [1, 2, 3, 4, 5, 6, 7, 8, 9, 10]\n",
    "\n",
    "categories = {\"alpha\": [1, 2, 3, 4], \"beta\":[2, 5], \"gamma\":[4, 6], \"delta\":[7, 8, 9, 10]}\n",
    "\n",
    "links = {1:[2, 3,4], 2:[6], 3:[8], 4:[], 5:[10], 6:[7], 7:[], 8:[], 9:[4], 10:[]}"
   ]
  },
  {
   "cell_type": "code",
   "execution_count": 27,
   "metadata": {},
   "outputs": [],
   "source": [
    "# Charlie\n",
    "articles = [1, 2, 3, 4, 5, 6, 7, 8, 9, 10]\n",
    "\n",
    "categories = {\"alpha\": [1, 2, 3, 4], \"beta\":[2, 5], \"gamma\":[4, 6], \"delta\":[7, 8, 9, 10]}\n",
    "\n",
    "links = {1:[2, 3], 2:[5], 3:[7], 4:[1], 5:[], 6:[4], 7:[2, 6, 8, 9, 10], 8:[], 9:[], 10:[]}"
   ]
  },
  {
   "cell_type": "code",
   "execution_count": 28,
   "metadata": {},
   "outputs": [],
   "source": [
    "# Intialize directed graph\n",
    "graph = nx.DiGraph()\n",
    "graph.add_nodes_from(list(links.keys()))\n",
    "# Add edges\n",
    "edges_n = 0\n",
    "for k in links.keys():\n",
    "    edges_n += len(links[k])\n",
    "    for j in links[k]:\n",
    "        graph.add_edge(k,j)"
   ]
  },
  {
   "cell_type": "code",
   "execution_count": 29,
   "metadata": {},
   "outputs": [
    {
     "data": {
      "image/png": "[encoded data removed]",
      "text/plain": [
       "<Figure size 432x288 with 1 Axes>"
      ]
     },
     "metadata": {},
     "output_type": "display_data"
    }
   ],
   "source": [
    "pos = nx.spring_layout(graph, k = 100, iterations = 500, scale = 0.1)\n",
    "nx.draw(graph, with_labels = True, pos = pos, node_color = 'purple')"
   ]
  },
  {
   "cell_type": "code",
   "execution_count": null,
   "metadata": {},
   "outputs": [],
   "source": []
  },
  {
   "cell_type": "code",
   "execution_count": null,
   "metadata": {},
   "outputs": [],
   "source": []
  },
  {
   "cell_type": "code",
   "execution_count": null,
   "metadata": {},
   "outputs": [],
   "source": []
  },
  {
   "cell_type": "code",
   "execution_count": 1,
   "metadata": {},
   "outputs": [],
   "source": [
    "# Initialize real data\n",
    "articles = 'wiki-topcats-page-names.txt'\n",
    "\n",
    "hyperlink = 'wiki-topcats-reduced.txt'\n",
    "\n",
    "categories_file = 'wiki-topcats-categories.txt'"
   ]
  },
  {
   "cell_type": "code",
   "execution_count": 2,
   "metadata": {},
   "outputs": [],
   "source": [
    "# create dictionary with article's id as key and article's name as value\n",
    "idx_name = {}\n",
    "with open(articles) as f:\n",
    "    for line in f:\n",
    "        (key, val) = line.split(' ', 1)\n",
    "        idx_name[int(key)] = val.strip()     "
   ]
  },
  {
   "cell_type": "code",
   "execution_count": 3,
   "metadata": {},
   "outputs": [],
   "source": [
    "articles = list(idx_name.keys())"
   ]
  },
  {
   "cell_type": "code",
   "execution_count": 8,
   "metadata": {},
   "outputs": [],
   "source": [
    "# create dictionary with article's id as key and list of article's hyperlinks as value\n",
    "links = defaultdict(list)\n",
    "with open(hyperlink) as f:\n",
    "    for line in f:\n",
    "        (key, val) = line.split('\\t')\n",
    "        links[int(key)].append(int(val.strip()))"
   ]
  },
  {
   "cell_type": "code",
   "execution_count": 13,
   "metadata": {},
   "outputs": [],
   "source": [
    "# create dictionary with article's category as key and list of article's idx as value\n",
    "categories = {}\n",
    "count = 0\n",
    "with open(categories_file) as f:\n",
    "    for line in f:\n",
    "        count += 1\n",
    "        (key, val) = line.split(';')\n",
    "        if val.strip() != '':\n",
    "            list_art = (val.strip()).split(' ')\n",
    "            if len(list_art) > 3500:\n",
    "                categories[key.replace('Category:','')] = list(map(int,list_art))"
   ]
  },
  {
   "cell_type": "code",
   "execution_count": 30,
   "metadata": {},
   "outputs": [
    {
     "name": "stdout",
     "output_type": "stream",
     "text": [
      "alpha\n",
      "beta\n",
      "gamma\n",
      "delta\n"
     ]
    }
   ],
   "source": [
    "for category in categories:        \n",
    "        print(category)"
   ]
  },
  {
   "cell_type": "code",
   "execution_count": 15,
   "metadata": {},
   "outputs": [
    {
     "data": {
      "text/plain": [
       "3813"
      ]
     },
     "execution_count": 15,
     "metadata": {},
     "output_type": "execute_result"
    }
   ],
   "source": [
    "len(categories[\"English_cricketers\"])"
   ]
  },
  {
   "cell_type": "code",
   "execution_count": 52,
   "metadata": {},
   "outputs": [],
   "source": [
    "category_files=list()\n",
    "for category in categories:\n",
    "    file=open(\"/home/jagg/Data/HW5/files/\" + category, \"w\")\n",
    "    category_files.append(file)"
   ]
  },
  {
   "cell_type": "code",
   "execution_count": 53,
   "metadata": {},
   "outputs": [
    {
     "name": "stdout",
     "output_type": "stream",
     "text": [
      "1\n",
      "2\n",
      "3\n",
      "4\n"
     ]
    }
   ],
   "source": [
    "my_start = my_time.time()\n",
    "inf=float(\"inf\")\n",
    "\n",
    "       \n",
    "for source in categories[\"alpha\"]:\n",
    "    \n",
    "    print(source)\n",
    "    \n",
    "    distances=dict()\n",
    "    \n",
    "    for article in articles:\n",
    "        if article==source:\n",
    "            distances[article]=0\n",
    "        else:\n",
    "            distances[article]=inf\n",
    "        \n",
    "    visited=set()\n",
    "    inf=float(\"inf\")\n",
    "    current_level=set()\n",
    "    next_level=set()\n",
    "    current_level.add(source)\n",
    "    \n",
    "    for link in links[source]:\n",
    "        next_level.add(link)\n",
    "        \n",
    "    level=0\n",
    "    \n",
    "    while next_level!=set():\n",
    "    \n",
    "        next_level=set()\n",
    "    \n",
    "        for node in current_level:\n",
    "            visited.add(node)\n",
    "            if node != source:\n",
    "                distances[node] = level\n",
    "            for link in links[node]:\n",
    "                if link not in visited:\n",
    "                    next_level.add(link)\n",
    "        level+=1\n",
    "        current_level=next_level\n",
    "        \n",
    "    for node in distances:\n",
    "        for category in categories:\n",
    "            if node in categories[category]:\n",
    "                index=list(categories.keys()).index(category)\n",
    "                category_files[index].write(str(distances[node]))\n",
    "                category_files[index].write(\"\\n\")\n",
    "                    \n",
    "for file in category_files:\n",
    "    file.close()\n",
    "        \n",
    "my_end = my_time.time()"
   ]
  },
  {
   "cell_type": "code",
   "execution_count": 64,
   "metadata": {},
   "outputs": [],
   "source": [
    "category_dict=dict()"
   ]
  },
  {
   "cell_type": "code",
   "execution_count": 66,
   "metadata": {},
   "outputs": [
    {
     "name": "stdout",
     "output_type": "stream",
     "text": [
      "{'alpha': 2.0, 'beta': 2.0, 'gamma': 3.5, 'delta': 3.0}\n"
     ]
    }
   ],
   "source": [
    "for category in categories:\n",
    "    file=open(\"/home/jagg/Data/HW5/files/\" + category, \"r\")\n",
    "    content=file.read()\n",
    "    content=content.split(\"\\n\")\n",
    "    content.remove(\"\")\n",
    "    file.close()\n",
    "    content=list(map(float, content))\n",
    "    median=np.median(content)\n",
    "    category_dict[category]=median\n",
    "print(category_dict)"
   ]
  },
  {
   "cell_type": "code",
   "execution_count": 68,
   "metadata": {},
   "outputs": [],
   "source": [
    "my_rank = collections.namedtuple('Category', [\"name\", \"score\"])"
   ]
  },
  {
   "cell_type": "code",
   "execution_count": 69,
   "metadata": {},
   "outputs": [
    {
     "name": "stdout",
     "output_type": "stream",
     "text": [
      "[Category(name='alpha', score=2.0), Category(name='beta', score=2.0), Category(name='gamma', score=3.5), Category(name='delta', score=3.0)]\n"
     ]
    }
   ],
   "source": [
    "category_list=list()\n",
    "for category in category_dict:\n",
    "    category_list.append(my_rank(name=category, score=category_dict[category]))\n",
    "\n",
    "print(category_list)"
   ]
  },
  {
   "cell_type": "code",
   "execution_count": 70,
   "metadata": {},
   "outputs": [
    {
     "name": "stdout",
     "output_type": "stream",
     "text": [
      "[Category(name='alpha', score=2.0), Category(name='beta', score=2.0), Category(name='delta', score=3.0), Category(name='gamma', score=3.5)]\n"
     ]
    }
   ],
   "source": [
    "# bubble sorting\n",
    "for i in range(len(category_list)-1):\n",
    "    for idx in range(len(category_list)-1):\n",
    "        if category_list[idx].score > category_list[idx+1].score:\n",
    "            temp=category_list[idx]\n",
    "            category_list[idx] = category_list[idx+1]\n",
    "            category_list[idx+1]=temp\n",
    "print(category_list)"
   ]
  },
  {
   "cell_type": "code",
   "execution_count": null,
   "metadata": {},
   "outputs": [],
   "source": []
  }
 ],
 "metadata": {
  "kernelspec": {
   "display_name": "Python 3",
   "language": "python",
   "name": "python3"
  },
  "language_info": {
   "codemirror_mode": {
    "name": "ipython",
    "version": 3
   },
   "file_extension": ".py",
   "mimetype": "text/x-python",
   "name": "python",
   "nbconvert_exporter": "python",
   "pygments_lexer": "ipython3",
   "version": "3.6.5"
  }
 },
 "nbformat": 4,
 "nbformat_minor": 2
}
