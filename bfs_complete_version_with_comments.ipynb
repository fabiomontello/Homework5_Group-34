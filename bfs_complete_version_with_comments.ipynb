{
 "cells": [
  {
   "cell_type": "code",
   "execution_count": null,
   "metadata": {},
   "outputs": [],
   "source": [
    "import numpy as np\n",
    "import time\n",
    "import networkx as nx\n",
    "import matplotlib.pyplot as plt\n",
    "import pandas as pd\n",
    "import collections"
   ]
  },
  {
   "cell_type": "markdown",
   "metadata": {},
   "source": [
    "### Test graph"
   ]
  },
  {
   "cell_type": "code",
   "execution_count": null,
   "metadata": {},
   "outputs": [],
   "source": [
    "#importing data\n",
    "data = pd.read_csv('wiki-topcats-reduced.txt', sep=\"\t\", header=None)\n",
    "data.columns = [\"from\", \"to\"]\n",
    "data.head()"
   ]
  },
  {
   "cell_type": "code",
   "execution_count": null,
   "metadata": {},
   "outputs": [],
   "source": [
    "#get the list of starting nodes \n",
    "list1 = data[\"from\"].values"
   ]
  },
  {
   "cell_type": "code",
   "execution_count": null,
   "metadata": {},
   "outputs": [],
   "source": [
    "# get the list of ending nodes\n",
    "list2 = data[\"to\"].values"
   ]
  },
  {
   "cell_type": "code",
   "execution_count": null,
   "metadata": {},
   "outputs": [],
   "source": [
    "#get sets of starting and ending nodes list to calculate the total set\n",
    "set1=set(list1)\n",
    "set2=set(list2)\n",
    "fin_set = set1.union(set2)"
   ]
  },
  {
   "cell_type": "code",
   "execution_count": null,
   "metadata": {},
   "outputs": [],
   "source": [
    "#number of connected nodes\n",
    "len(fin_set)"
   ]
  },
  {
   "cell_type": "code",
   "execution_count": null,
   "metadata": {},
   "outputs": [],
   "source": [
    "#number of edges\n",
    "len(data)"
   ]
  },
  {
   "cell_type": "code",
   "execution_count": null,
   "metadata": {},
   "outputs": [],
   "source": [
    "# using networkx library to create the graph\n",
    "G = nx.DiGraph()"
   ]
  },
  {
   "cell_type": "code",
   "execution_count": null,
   "metadata": {},
   "outputs": [],
   "source": [
    "#first step of filling the empty graph: adding all the connected nodes\n",
    "#also initializing the  categories feature \n",
    "G.add_nodes_from(fin_set, categories = [])"
   ]
  },
  {
   "cell_type": "code",
   "execution_count": null,
   "metadata": {},
   "outputs": [],
   "source": [
    "#adding edges to the graph (G)\n",
    "for i in range(len(data)):\n",
    "    G.add_edge(list1[i], list2[i])"
   ]
  },
  {
   "cell_type": "code",
   "execution_count": null,
   "metadata": {},
   "outputs": [],
   "source": [
    "#using number_of_nodes() method to re-calculate the total number of connected nodes\n",
    "G.number_of_nodes()"
   ]
  },
  {
   "cell_type": "code",
   "execution_count": null,
   "metadata": {},
   "outputs": [],
   "source": [
    "# using G.number_of_edges() method to re-calculate the total number of edges\n",
    "G.number_of_edges()"
   ]
  },
  {
   "cell_type": "code",
   "execution_count": null,
   "metadata": {},
   "outputs": [],
   "source": [
    "# creating a dictionary of tuples in which the first element is the name of that category\n",
    "#and the second element is the list of articles in that category \n",
    "categoriesdata = {}\n",
    "with open('wiki-topcats-categories.txt') as f:\n",
    "    for i, line in enumerate(f):\n",
    "        tmp = line.split(';')\n",
    "        categoriesdata[i] = (tmp[0].replace('Category:', ''), [int(i) for i in tmp[1].split()])\n",
    "f.close()"
   ]
  },
  {
   "cell_type": "code",
   "execution_count": null,
   "metadata": {},
   "outputs": [],
   "source": [
    "categoriesdata"
   ]
  },
  {
   "cell_type": "code",
   "execution_count": null,
   "metadata": {},
   "outputs": [],
   "source": [
    "#we fill the list of categories for every node in the graph\n",
    "#updating the category feature for every node in graph \n",
    "\n",
    "for elem in categoriesdata: #for every key( category) in the categories dictionary\n",
    "    for node in categoriesdata[elem][1]: # for every node in the list\n",
    "        if(node in fin_set): # if node is connected\n",
    "            if len(categoriesdata[elem][1]) > 3500: #if the length of list is more than 3500\n",
    "                ncat = G.node[node]['categories'] + [categoriesdata[elem][0]] #get the list of categories and add the new category\n",
    "                G.node[node].update(categories = ncat) # update the category feature in the graph"
   ]
  },
  {
   "cell_type": "code",
   "execution_count": null,
   "metadata": {},
   "outputs": [],
   "source": [
    "# printing the graph's information\n",
    "print(nx.info(G))"
   ]
  },
  {
   "cell_type": "code",
   "execution_count": null,
   "metadata": {},
   "outputs": [],
   "source": [
    "#create a dictionary of all the categories if their number of articles are more than 3500\n",
    "# the key of the dictionary is the name of the category and the value is all the nodes in the category\n",
    "# which are connected \n",
    "categories = dict()\n",
    "for tpl in categoriesdata:\n",
    "    if len(categoriesdata[tpl][1]) > 3500:\n",
    "        categories[categoriesdata[tpl][0]] = [node for node in categoriesdata[tpl][1] if node in fin_set]"
   ]
  },
  {
   "cell_type": "code",
   "execution_count": null,
   "metadata": {},
   "outputs": [],
   "source": [
    "#choose the input category\n",
    "input_category = \"Year_of_birth_unknown\""
   ]
  },
  {
   "cell_type": "code",
   "execution_count": null,
   "metadata": {},
   "outputs": [],
   "source": [
    "#using multiprocessing\n",
    "from multiprocessing import Pool"
   ]
  },
  {
   "cell_type": "code",
   "execution_count": null,
   "metadata": {},
   "outputs": [],
   "source": [
    "inf=float(\"inf\")\n",
    "#writing empty files for each category that has more than 3500 articles and connected nodes\n",
    "for category in categories:\n",
    "    file=open(\"C:/Users/user-01/Desktop/ADM HW5/files/\" + category, \"w\")\n",
    "    file.close()\n",
    "\n",
    "print(\"Sources:/n\")\n",
    "#BFS algo\n",
    "def compute(source):\n",
    "\n",
    "    print(source)\n",
    "    \n",
    "    level=0 #initializing the level zero as the starting level\n",
    "    current_level=set() #initializing current level as an empty set\n",
    "    next_level=set() #initializing next level as an empty set\n",
    "    current_level.add(source) # in the first step current level is equal to the source\n",
    "    visited=set() #initializing visited nodes as an empty set\n",
    "    \n",
    "    for link in list(G.neighbors(source)): #for iterating over the source's neighbors\n",
    "        next_level.add(link) #add source's neighbors to the next level\n",
    "    \n",
    "    while next_level!=set(): #while next level is not empty\n",
    "    \n",
    "        next_level=set() # we re-initialize the next level\n",
    "    \n",
    "        for node in current_level: # assign the current level nodes to the visited set\n",
    "            visited.add(node)\n",
    "\n",
    "            if node == source: # if the node is source\n",
    "                for category in G.node[node]['categories']: #for category in node's list of categories\n",
    "                    file=open(\"C:/Users/user-01/Desktop/ADM HW5/files/\" + category, \"a\") # opening the file with corresponding category\n",
    "                    file.write(\"0\")\n",
    "                    file.write(\"/n\")\n",
    "                    file.close()\n",
    "                    \n",
    "            elif node!=source: #if the node is not the source\n",
    "                for category in G.node[node]['categories']: #for category in node's list of categories\n",
    "                    file=open(\"C:/Users/user-01/Desktop/ADM HW5/files/\" + category, \"a\") # opening the file with corresponding category\n",
    "                    file.write(str(level))\n",
    "                    file.write(\"/n\")\n",
    "                    file.close()\n",
    "       \n",
    "            #filling the next level\n",
    "            for link in list(G.neighbors(node)): \n",
    "                if link not in visited:\n",
    "                    next_level.add(link)\n",
    "                    \n",
    "        level+=1\n",
    "        current_level=next_level\n",
    "\n",
    "pool = Pool() #initializing the multi core processing\n",
    "pool.map(compute, categories[input_category]) # mapping the compute function to all the nodes in the input category\n",
    "pool.close() # close the multi core processing object \n",
    "pool.join()# provides synchronization for possible debugging outputs"
   ]
  },
  {
   "cell_type": "code",
   "execution_count": null,
   "metadata": {},
   "outputs": [],
   "source": [
    "#calculating median of distances for each category from input category\n",
    "\n",
    "category_dict=dict() #dictionary of distances between input category and every other category\n",
    "\n",
    "for category in categories: # for each category\n",
    "    \n",
    "    if category == input_category: # if the category is the input category\n",
    "        \n",
    "        print(category)\n",
    "        print(0.0)\n",
    "        category_dict[category]=0. # set the distance to 0.0 by default\n",
    "        \n",
    "        \n",
    "    else: # if the category is not the input category\n",
    "        \n",
    "        print(category)\n",
    "\n",
    "        file=open(\"C:/Users/user-01/Desktop/ADM HW5/files/\" + category, \"r\") # open the file of the category\n",
    "        content=file.read().splitlines() #create a list of each line(distances)\n",
    "        file.close()\n",
    "\n",
    "        content=list(map(float, content)) #change type of the content to float\n",
    "\n",
    "        content.sort() #sort the content(distances)\n",
    "\n",
    "        missing_infinities=len(categories[input_category])*len(categories[category])-len(content) #computing the number of missing inf distances in the category file\n",
    "\n",
    "        if (len(content) + missing_infinities)%2 != 0: #if the total number of distances is odd\n",
    "            median_index = int(((len(content) + missing_infinities)-1)/2 + 1) # calculating the median index\n",
    "            if median_index < len(content): # check if the median index falls inside the finite distances\n",
    "                median = content[median_index] # get the corresponding value of this index\n",
    "            else: #if the median falls in the infinite distances\n",
    "                median = inf # corresponding value will be infinity\n",
    "\n",
    "        if (len(content) + missing_infinities)%2 == 0: #if the total number of distances is even\n",
    "            median_index1 = int(((len(content) + missing_infinities)-1)/2) # calculating the median index1\n",
    "            median_index2 = int(((len(content) + missing_infinities)-1)/2 + 1) # calculating the median index2\n",
    "            if (median_index1 < len(content)) and (median_index2 < len(content)): #check if the median index1 and median index2 falls inside the finite distances\n",
    "                median = (content[median_index1] + content[median_index2])/2 # take the mean of the values for median index1 and median index2\n",
    "            else: #if the median index1 and /or median index2 falls inside the infinite distances\n",
    "                median = inf  # corresponding value will be infinity\n",
    "\n",
    "        print(median)\n",
    "        category_dict[category]=median #providing median of category_dict for each category"
   ]
  },
  {
   "cell_type": "code",
   "execution_count": null,
   "metadata": {},
   "outputs": [],
   "source": [
    "#using namedtuple structure for convenience in terms of indexing\n",
    "my_rank=collections.namedtuple('Category', [\"name\", \"score\"]) "
   ]
  },
  {
   "cell_type": "code",
   "execution_count": null,
   "metadata": {},
   "outputs": [],
   "source": [
    " \n",
    "category_list=list() #initializing an empty list of namedtuples\n",
    "\n",
    "for category in category_dict: #for iterating over categories in category_dict\n",
    "    category_list.append(my_rank(name=category, score=category_dict[category])) #filing the category list with namedtuples\n",
    "\n",
    "print(category_list) "
   ]
  },
  {
   "cell_type": "code",
   "execution_count": null,
   "metadata": {},
   "outputs": [],
   "source": [
    "#calculating block ranking\n",
    "for i in range(len(category_list)-1): #until all the elements are sorted\n",
    "    for j in range(len(category_list)-1): #for all the elements in the list except the last one\n",
    "        if category_list[j].score > category_list[j+1].score: # if the score of the category is greater than the following\n",
    "            temp=category_list[j] # we assign jth tuple to a temporary variable\n",
    "            category_list[j] = category_list[j+1] # we swap jth with j+1th tuple\n",
    "            category_list[j+1]=temp #we assign temporary variable to j+1th tuple\n",
    "            \n",
    "print(category_list)"
   ]
  }
 ],
 "metadata": {
  "kernelspec": {
   "display_name": "Python 3",
   "language": "python",
   "name": "python3"
  },
  "language_info": {
   "codemirror_mode": {
    "name": "ipython",
    "version": 3
   },
   "file_extension": ".py",
   "mimetype": "text/x-python",
   "name": "python",
   "nbconvert_exporter": "python",
   "pygments_lexer": "ipython3",
   "version": "3.6.5"
  }
 },
 "nbformat": 4,
 "nbformat_minor": 2
}
