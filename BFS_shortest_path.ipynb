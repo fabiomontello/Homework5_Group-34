{
 "cells": [
  {
   "cell_type": "code",
   "execution_count": 145,
   "metadata": {},
   "outputs": [],
   "source": [
    "import networkx as nx\n",
    "import matplotlib.pyplot as plt\n",
    "import pandas as pd\n",
    "import math\n",
    "from queue import Queue"
   ]
  },
  {
   "cell_type": "code",
   "execution_count": 179,
   "metadata": {},
   "outputs": [],
   "source": [
    "edgeList=[(0, 1), (0, 3), (1, 2), (3, 4), (3, 7), (4, 5), (4, 7),(6, 8)]\n",
    "G = nx.DiGraph()\n",
    "G.add_edges_from(edgeList)"
   ]
  },
  {
   "cell_type": "code",
   "execution_count": 183,
   "metadata": {},
   "outputs": [],
   "source": [
    "def BFS(graph, srcnode, destnode, predcessor, distance):\n",
    "        q = Queue() \n",
    "        visited={} \n",
    "        for i, node in enumerate(G.nodes):\n",
    "                visited[i] = False\n",
    "                distance[i] = math.inf\n",
    "                predcessor[i] = -1\n",
    "\n",
    "        visited[srcnode] = True; \n",
    "        distance[srcnode] = 0; \n",
    "        q.put(srcnode); \n",
    "\n",
    "        while (q.empty()==False):\n",
    "                node = q.get()\n",
    "                for neinode in G.neighbors(node):\n",
    "                        if visited[neinode] == False :\n",
    "                                visited[neinode] = True\n",
    "                                distance[neinode]=distance[node]+1\n",
    "                                predcessor[neinode] = node\n",
    "                                q.put(neinode)\n",
    "                        if neinode == destnode: \n",
    "                                return True\n",
    "        return False\n",
    "    \n",
    "def printShortestDistance(graph, srcnode, destnode):\n",
    "        predcessor={}\n",
    "        distance={} \n",
    "        if (BFS(graph, srcnode, destnode, predcessor, distance) == False):\n",
    "                                print(\"Given source and destination are not connected\") \n",
    "                                return \n",
    "        print(\"Shortest path length is : \", distance[destnode])"
   ]
  },
  {
   "cell_type": "code",
   "execution_count": 185,
   "metadata": {},
   "outputs": [
    {
     "name": "stdout",
     "output_type": "stream",
     "text": [
      "Shortest path length is :  2\n"
     ]
    }
   ],
   "source": [
    "printShortestDistance(G, 0, 7)"
   ]
  },
  {
   "cell_type": "code",
   "execution_count": null,
   "metadata": {},
   "outputs": [],
   "source": []
  }
 ],
 "metadata": {
  "kernelspec": {
   "display_name": "Python 3",
   "language": "python",
   "name": "python3"
  },
  "language_info": {
   "codemirror_mode": {
    "name": "ipython",
    "version": 3
   },
   "file_extension": ".py",
   "mimetype": "text/x-python",
   "name": "python",
   "nbconvert_exporter": "python",
   "pygments_lexer": "ipython3",
   "version": "3.6.5"
  }
 },
 "nbformat": 4,
 "nbformat_minor": 2
}
