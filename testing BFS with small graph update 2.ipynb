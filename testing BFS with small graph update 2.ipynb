{
 "cells": [
  {
   "cell_type": "code",
   "execution_count": 1,
   "metadata": {},
   "outputs": [],
   "source": [
    "import numpy as np\n",
    "import time as my_time\n",
    "import collections "
   ]
  },
  {
   "cell_type": "code",
   "execution_count": 2,
   "metadata": {},
   "outputs": [],
   "source": [
    "# Test graph\n",
    "\n",
    "articles = [1, 2, 3, 4, 5, 6, 7, 8, 9, 10]\n",
    "\n",
    "categories = {\"alpha\": [1, 2, 3, 4], \"beta\":[2, 5], \"gamma\":[4, 6], \"delta\":[7, 8, 9, 10]}\n",
    "\n",
    "links = {1:[2, 3], 2:[5], 3:[7], 4:[1], 5:[], 6:[4], 7:[2, 6, 8, 9, 10], 8:[], 9:[], 10:[]}"
   ]
  },
  {
   "cell_type": "code",
   "execution_count": 3,
   "metadata": {},
   "outputs": [],
   "source": [
    "category_files=list()\n",
    "for category in categories:\n",
    "    file=open(\"/home/jagg/Data/HW5/files/\" + category, \"w\")\n",
    "    category_files.append(file)"
   ]
  },
  {
   "cell_type": "code",
   "execution_count": 4,
   "metadata": {},
   "outputs": [
    {
     "name": "stdout",
     "output_type": "stream",
     "text": [
      "1\n",
      "2\n",
      "3\n",
      "4\n"
     ]
    }
   ],
   "source": [
    "my_start = my_time.time()\n",
    "\n",
    "inf=float(\"inf\")\n",
    "       \n",
    "for source in categories[\"alpha\"]:\n",
    "    \n",
    "    print(source)\n",
    "    \n",
    "    distances=dict()\n",
    "    \n",
    "    for article in articles:\n",
    "        if article==source:\n",
    "            distances[article]=0\n",
    "        else:\n",
    "            distances[article]=inf\n",
    "        \n",
    "    visited=set()\n",
    "    inf=float(\"inf\")\n",
    "    current_level=set()\n",
    "    next_level=set()\n",
    "    current_level.add(source)\n",
    "    \n",
    "    for link in links[source]:\n",
    "        next_level.add(link)\n",
    "        \n",
    "    level=0\n",
    "    \n",
    "    while next_level!=set():\n",
    "    \n",
    "        next_level=set()\n",
    "    \n",
    "        for node in current_level:\n",
    "            visited.add(node)\n",
    "            if node != source:\n",
    "                distances[node] = level\n",
    "            for link in links[node]:\n",
    "                if link not in visited:\n",
    "                    next_level.add(link)\n",
    "        level+=1\n",
    "        current_level=next_level\n",
    "        \n",
    "    for node in distances:\n",
    "        for category in categories:\n",
    "            if node in categories[category]:\n",
    "                index=list(categories.keys()).index(category)\n",
    "                category_files[index].write(str(distances[node]))\n",
    "                category_files[index].write(\"\\n\")\n",
    "                    \n",
    "for file in category_files:\n",
    "    file.close()\n",
    "        \n",
    "my_end = my_time.time()"
   ]
  },
  {
   "cell_type": "code",
   "execution_count": 5,
   "metadata": {},
   "outputs": [],
   "source": [
    "category_dict=dict()"
   ]
  },
  {
   "cell_type": "code",
   "execution_count": 6,
   "metadata": {},
   "outputs": [
    {
     "name": "stdout",
     "output_type": "stream",
     "text": [
      "{'alpha': 2.0, 'beta': 2.0, 'gamma': 3.5, 'delta': 3.0}\n"
     ]
    }
   ],
   "source": [
    "for category in categories:\n",
    "    file=open(\"/home/jagg/Data/HW5/files/\" + category, \"r\")\n",
    "    content=file.read()\n",
    "    content=content.split(\"\\n\")\n",
    "    content.remove(\"\")\n",
    "    file.close()\n",
    "    content=list(map(float, content))\n",
    "    median=np.median(content)\n",
    "    category_dict[category]=median\n",
    "print(category_dict)"
   ]
  },
  {
   "cell_type": "code",
   "execution_count": 7,
   "metadata": {},
   "outputs": [],
   "source": [
    "my_rank = collections.namedtuple('Category', [\"name\", \"score\"])"
   ]
  },
  {
   "cell_type": "code",
   "execution_count": 8,
   "metadata": {},
   "outputs": [
    {
     "name": "stdout",
     "output_type": "stream",
     "text": [
      "[Category(name='alpha', score=2.0), Category(name='beta', score=2.0), Category(name='gamma', score=3.5), Category(name='delta', score=3.0)]\n"
     ]
    }
   ],
   "source": [
    "category_list=list()\n",
    "\n",
    "for category in category_dict:\n",
    "    category_list.append(my_rank(name=category, score=category_dict[category]))\n",
    "\n",
    "print(category_list)"
   ]
  },
  {
   "cell_type": "code",
   "execution_count": 9,
   "metadata": {},
   "outputs": [
    {
     "name": "stdout",
     "output_type": "stream",
     "text": [
      "[Category(name='alpha', score=2.0), Category(name='beta', score=2.0), Category(name='delta', score=3.0), Category(name='gamma', score=3.5)]\n"
     ]
    }
   ],
   "source": [
    "for i in range(len(category_list)-1):\n",
    "    for idx in range(len(category_list)-1):\n",
    "        if category_list[idx].score > category_list[idx+1].score:\n",
    "            temp=category_list[idx]\n",
    "            category_list[idx] = category_list[idx+1]\n",
    "            category_list[idx+1]=temp\n",
    "print(category_list)"
   ]
  },
  {
   "cell_type": "code",
   "execution_count": null,
   "metadata": {},
   "outputs": [],
   "source": []
  }
 ],
 "metadata": {
  "kernelspec": {
   "display_name": "Python 3",
   "language": "python",
   "name": "python3"
  },
  "language_info": {
   "codemirror_mode": {
    "name": "ipython",
    "version": 3
   },
   "file_extension": ".py",
   "mimetype": "text/x-python",
   "name": "python",
   "nbconvert_exporter": "python",
   "pygments_lexer": "ipython3",
   "version": "3.6.5"
  }
 },
 "nbformat": 4,
 "nbformat_minor": 2
}
