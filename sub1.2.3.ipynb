{
 "cells": [
  {
   "cell_type": "code",
   "execution_count": null,
   "metadata": {},
   "outputs": [],
   "source": [
    "import networkx as nx\n",
    "#import matplotlib.pyplot as plt\n",
    "#import pandas as pd\n",
    "import math\n",
    "from queue import Queue\n",
    "import time\n",
    "import statistics\n",
    "import json"
   ]
  },
  {
   "cell_type": "code",
   "execution_count": null,
   "metadata": {},
   "outputs": [],
   "source": [
    "G = nx.DiGraph()\n",
    "for count, line in enumerate(open(\"wiki-topcats-reduced.txt\")):\n",
    "            grlst=line.replace(\"\\n\", \"\").split(sep=\"\\t\")\n",
    "            G.add_edge(int(grlst[0]),int(grlst[1]))"
   ]
  },
  {
   "cell_type": "code",
   "execution_count": null,
   "metadata": {},
   "outputs": [],
   "source": [
    "def Intersection(lst1, lst2): \n",
    "    return set(lst1).intersection(lst2)"
   ]
  },
  {
   "cell_type": "code",
   "execution_count": null,
   "metadata": {
    "scrolled": false
   },
   "outputs": [],
   "source": [
    "categoriesdata = {}\n",
    "lst2=G.nodes()\n",
    "with open('wiki-topcats-categories.txt') as f:\n",
    "    for i, line in enumerate(f):\n",
    "        tmp = list(map(int, (line.split(';'))[1].split()))\n",
    "        if len(tmp)>=3500:\n",
    "            tmp=Intersection(tmp,lst2)\n",
    "            if len(tmp)>=3500:\n",
    "                categoriesdata[i] =list(tmp) \n",
    "f.close()"
   ]
  },
  {
   "cell_type": "code",
   "execution_count": null,
   "metadata": {},
   "outputs": [],
   "source": [
    "with open('categoriesdata.json', 'w') as fp:\n",
    "    json.dump(categoriesdata, fp)"
   ]
  },
  {
   "cell_type": "code",
   "execution_count": null,
   "metadata": {},
   "outputs": [],
   "source": [
    "maxsub=[0,0]\n",
    "for i in categoriesdata:\n",
    "    if len(categoriesdata[i])>maxsub[1]:\n",
    "        maxsub[0]=categoriesdata[i]\n",
    "        maxsub[1]=len(categoriesdata[i])"
   ]
  },
  {
   "cell_type": "code",
   "execution_count": null,
   "metadata": {},
   "outputs": [],
   "source": [
    "intersectiondata={}\n",
    "cleancategoriesdata={}\n",
    "for i in categoriesdata:\n",
    "    if i!=1047:\n",
    "        cleancategoriesdata[i]=list(set(categoriesdata[i])-set(categoriesdata[i]).intersection(maxsub[0]))\n",
    "        intersectiondata[i]=list(set(categoriesdata[i]).intersection(maxsub[0]))"
   ]
  },
  {
   "cell_type": "code",
   "execution_count": null,
   "metadata": {},
   "outputs": [],
   "source": [
    "with open('cleancategoriesdata.json', 'w') as fp:\n",
    "    json.dump(cleancategoriesdata, fp)\n",
    "with open('intersectiondata.json', 'w') as fp:\n",
    "    json.dump(intersectiondata, fp)"
   ]
  },
  {
   "cell_type": "code",
   "execution_count": null,
   "metadata": {},
   "outputs": [],
   "source": [
    "def helper(G, source, target):\n",
    "    Gpred = G.pred # all predcessors\n",
    "    Gsucc = G.succ # all successors\n",
    "    pred = {source: None} # dictionary for predcessor\n",
    "    succ = {target: None} # dictionary for successors\n",
    "    forward_fringe = [source] #list\n",
    "    reverse_fringe = [target] #list\n",
    "    \n",
    "    while forward_fringe and reverse_fringe: #while these lists are not empty\n",
    "        if len(forward_fringe) <= len(reverse_fringe):\n",
    "            this_level = forward_fringe\n",
    "            forward_fringe = []\n",
    "            for v in this_level:\n",
    "                for w in Gsucc[v]:\n",
    "                    if w not in pred:\n",
    "                        forward_fringe.append(w)\n",
    "                        pred[w] = v\n",
    "                    if w in succ:\n",
    "                        return pred, succ, w\n",
    "        else:\n",
    "            this_level = reverse_fringe\n",
    "            reverse_fringe = []\n",
    "            for v in this_level:\n",
    "                for w in Gpred[v]:\n",
    "                    if w not in succ:\n",
    "                        succ[w] = v\n",
    "                        reverse_fringe.append(w)\n",
    "                    if w in pred:\n",
    "                        return pred, succ, w\n",
    "\n",
    "    return None\n",
    "    \n",
    "def shortest_path(G, source, target):\n",
    "    pred, succ, w = helper(G, source, target)\n",
    "    path = []\n",
    "    while w is not None:\n",
    "        path.append(w)\n",
    "        w = pred[w]\n",
    "    path.reverse()\n",
    "    w = succ[path[-1]]\n",
    "    while w is not None:\n",
    "        path.append(w)\n",
    "        w = succ[w]\n",
    "    return len(path)-1"
   ]
  },
  {
   "cell_type": "code",
   "execution_count": null,
   "metadata": {},
   "outputs": [],
   "source": [
    "blockrank={}\n",
    "for i in cleancategoriesdata:\n",
    "    if i!=1047:\n",
    "        start = time.time()\n",
    "        for j in cleancategoriesdata[i]:\n",
    "            for k in intersectiondata[i]:\n",
    "                try:\n",
    "                    x = shortest_path(G, j, k)\n",
    "                except:\n",
    "                    x = -1\n",
    "                if x!=-1:\n",
    "                    if i in blockrank: blockrank[i].append(x)\n",
    "                    else:blockrank[i]=[x]\n",
    "        end = time.time()\n",
    "        if i in blockrank:\n",
    "            blockrank[i]=statistics.median(blockrank[i])\n",
    "        print(i, end - start)\n",
    "with open('blockrank.json', 'w') as fp:\n",
    "    json.dump(blockrank, fp)"
   ]
  },
  {
   "cell_type": "code",
   "execution_count": null,
   "metadata": {},
   "outputs": [],
   "source": [
    "intersectiondata"
   ]
  },
  {
   "cell_type": "code",
   "execution_count": null,
   "metadata": {},
   "outputs": [],
   "source": []
  }
 ],
 "metadata": {
  "kernelspec": {
   "display_name": "Python 3",
   "language": "python",
   "name": "python3"
  },
  "language_info": {
   "codemirror_mode": {
    "name": "ipython",
    "version": 3
   },
   "file_extension": ".py",
   "mimetype": "text/x-python",
   "name": "python",
   "nbconvert_exporter": "python",
   "pygments_lexer": "ipython3",
   "version": "3.6.5"
  }
 },
 "nbformat": 4,
 "nbformat_minor": 2
}
