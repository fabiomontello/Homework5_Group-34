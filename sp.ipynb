{
 "cells": [
  {
   "cell_type": "code",
   "execution_count": null,
   "metadata": {},
   "outputs": [],
   "source": [
    "import numpy as np\n",
    "import time\n",
    "import networkx as nx\n",
    "import matplotlib.pyplot as plt\n",
    "import pandas as pd\n",
    "import collections "
   ]
  },
  {
   "cell_type": "markdown",
   "metadata": {},
   "source": [
    "### Test graph"
   ]
  },
  {
   "cell_type": "code",
   "execution_count": null,
   "metadata": {},
   "outputs": [],
   "source": [
    "data = pd.read_csv('wiki-topcats-reduced.txt', sep=\"\t\", header=None)\n",
    "data.columns = [\"from\", \"to\"]\n",
    "data.head()"
   ]
  },
  {
   "cell_type": "code",
   "execution_count": null,
   "metadata": {},
   "outputs": [],
   "source": [
    "list1 = data[\"from\"].values"
   ]
  },
  {
   "cell_type": "code",
   "execution_count": null,
   "metadata": {},
   "outputs": [],
   "source": [
    "list2 = data[\"to\"].values"
   ]
  },
  {
   "cell_type": "code",
   "execution_count": null,
   "metadata": {},
   "outputs": [],
   "source": [
    "set1=set(list1)\n",
    "set2=set(list2)\n",
    "fin_set = set1.union(set2)"
   ]
  },
  {
   "cell_type": "code",
   "execution_count": null,
   "metadata": {},
   "outputs": [],
   "source": [
    "#number of nodes\n",
    "len(fin_set)"
   ]
  },
  {
   "cell_type": "code",
   "execution_count": null,
   "metadata": {},
   "outputs": [],
   "source": [
    "#number of edges\n",
    "len(data)"
   ]
  },
  {
   "cell_type": "code",
   "execution_count": null,
   "metadata": {},
   "outputs": [],
   "source": [
    "G = nx.DiGraph()"
   ]
  },
  {
   "cell_type": "code",
   "execution_count": null,
   "metadata": {},
   "outputs": [],
   "source": [
    "G.add_nodes_from(fin_set, categories = [])"
   ]
  },
  {
   "cell_type": "code",
   "execution_count": null,
   "metadata": {},
   "outputs": [],
   "source": [
    "for i in range(len(data)):\n",
    "    G.add_edge(list1[i], list2[i])"
   ]
  },
  {
   "cell_type": "code",
   "execution_count": null,
   "metadata": {},
   "outputs": [],
   "source": [
    "G.number_of_nodes()"
   ]
  },
  {
   "cell_type": "code",
   "execution_count": null,
   "metadata": {},
   "outputs": [],
   "source": [
    "G.number_of_edges()"
   ]
  },
  {
   "cell_type": "code",
   "execution_count": null,
   "metadata": {},
   "outputs": [],
   "source": [
    "categoriesdata = {}\n",
    "with open('wiki-topcats-categories.txt') as f:\n",
    "    for i, line in enumerate(f):\n",
    "        tmp = line.split(';')\n",
    "        categoriesdata[i] = (tmp[0].replace('Category:', ''), [int(i) for i in tmp[1].split()])\n",
    "f.close()\n",
    "categoriesdata"
   ]
  },
  {
   "cell_type": "code",
   "execution_count": null,
   "metadata": {},
   "outputs": [],
   "source": [
    "for elem in categoriesdata:\n",
    "    for node in categoriesdata[elem][1]:\n",
    "        if(node in fin_set):\n",
    "            if len(categoriesdata[elem][1]) > 3500:\n",
    "                ncat = G.node[node]['categories'] + [categoriesdata[elem][0]]\n",
    "                G.node[node].update(categories = ncat)"
   ]
  },
  {
   "cell_type": "code",
   "execution_count": null,
   "metadata": {},
   "outputs": [],
   "source": [
    "print(nx.info(G))"
   ]
  },
  {
   "cell_type": "code",
   "execution_count": null,
   "metadata": {},
   "outputs": [],
   "source": [
    "categories = dict()\n",
    "for tpl in categoriesdata:\n",
    "    if len(categoriesdata[tpl][1]) > 3500:\n",
    "        categories[categoriesdata[tpl][0]] = [node for node in categoriesdata[tpl][1] if node in fin_set]"
   ]
  },
  {
   "cell_type": "code",
   "execution_count": null,
   "metadata": {},
   "outputs": [],
   "source": [
    "input_category = \"Year_of_birth_unknown\""
   ]
  },
  {
   "cell_type": "code",
   "execution_count": null,
   "metadata": {},
   "outputs": [],
   "source": [
    "from multiprocessing import Pool"
   ]
  },
  {
   "cell_type": "code",
   "execution_count": null,
   "metadata": {},
   "outputs": [],
   "source": [
    "inf=float(\"inf\")\n",
    "\n",
    "for category in categories:\n",
    "    file=open(\"/home/jagg/Data/HW5/files/\" + category, \"w\")\n",
    "    file.close()\n",
    "\n",
    "print(\"Sources:\\n\")\n",
    "\n",
    "def compute(source):\n",
    "\n",
    "    print(source)\n",
    "\n",
    "    level=0\n",
    "\n",
    "    current_level=set()\n",
    "    next_level=set()\n",
    "    current_level.add(source)\n",
    "    visited=set()\n",
    "    \n",
    "    for link in list(G.neighbors(source)):\n",
    "        next_level.add(link)\n",
    "    \n",
    "    while next_level!=set():\n",
    "    \n",
    "        next_level=set()\n",
    "    \n",
    "        for node in current_level:\n",
    "            visited.add(node)\n",
    "\n",
    "            if node == source:\n",
    "                for category in G.node[node]['categories']:\n",
    "                    file=open(\"/home/jagg/Data/HW5/files/\" + category, \"a\")\n",
    "                    file.write(\"0\")\n",
    "                    file.write(\"\\n\")\n",
    "                    file.close()\n",
    "                    \n",
    "            elif node!=source:\n",
    "                for category in G.node[node]['categories']:\n",
    "                    file=open(\"/home/jagg/Data/HW5/files/\" + category, \"a\")\n",
    "                    file.write(str(level))\n",
    "                    file.write(\"\\n\")\n",
    "                    file.close()\n",
    "\n",
    "            for link in list(G.neighbors(node)):\n",
    "                if link not in visited:\n",
    "                    next_level.add(link)\n",
    "\n",
    "        level+=1\n",
    "        current_level=next_level\n",
    "\n",
    "pool = Pool()\n",
    "pool.map(compute, categories[input_category])\n",
    "pool.close()\n",
    "pool.join()"
   ]
  },
  {
   "cell_type": "code",
   "execution_count": null,
   "metadata": {},
   "outputs": [],
   "source": [
    "category_dict=dict()"
   ]
  },
  {
   "cell_type": "code",
   "execution_count": null,
   "metadata": {},
   "outputs": [],
   "source": [
    "for category in categories:\n",
    "    \n",
    "    file=open(\"/home/jagg/Data/HW5/files/\" + category, \"r\")\n",
    "    content=file.read()\n",
    "    content=content.split(\"\\n\")\n",
    "    content.remove(\"\")\n",
    "    file.close()\n",
    "    content=list(map(float, content))\n",
    "    \n",
    "    missing_infinities=len(categories[input_category])*len(categories[category])-len(content)\n",
    "    \n",
    "    for infinity in range(missing_infinities):\n",
    "        content.append(inf)\n",
    "        \n",
    "    median=np.median(content)\n",
    "    category_dict[category]=median\n",
    "    \n",
    "print(category_dict)"
   ]
  },
  {
   "cell_type": "code",
   "execution_count": null,
   "metadata": {},
   "outputs": [],
   "source": [
    "my_rank=collections.namedtuple('Category', [\"name\", \"score\"])"
   ]
  },
  {
   "cell_type": "code",
   "execution_count": null,
   "metadata": {},
   "outputs": [],
   "source": [
    "category_list=list()\n",
    "\n",
    "for category in category_dict:\n",
    "    category_list.append(my_rank(name=category, score=category_dict[category]))\n",
    "\n",
    "print(category_list)"
   ]
  },
  {
   "cell_type": "code",
   "execution_count": null,
   "metadata": {},
   "outputs": [],
   "source": [
    "for i in range(len(category_list)-1):\n",
    "    for j in range(len(category_list)-1):\n",
    "        if category_list[j].score > category_list[j+1].score:\n",
    "            temp=category_list[j]\n",
    "            category_list[j] = category_list[j+1]\n",
    "            category_list[j+1]=temp\n",
    "            \n",
    "print(category_list)"
   ]
  },
  {
   "cell_type": "code",
   "execution_count": null,
   "metadata": {},
   "outputs": [],
   "source": []
  }
 ],
 "metadata": {
  "kernelspec": {
   "display_name": "Python 3",
   "language": "python",
   "name": "python3"
  },
  "language_info": {
   "codemirror_mode": {
    "name": "ipython",
    "version": 3
   },
   "file_extension": ".py",
   "mimetype": "text/x-python",
   "name": "python",
   "nbconvert_exporter": "python",
   "pygments_lexer": "ipython3",
   "version": "3.6.5"
  }
 },
 "nbformat": 4,
 "nbformat_minor": 2
}
